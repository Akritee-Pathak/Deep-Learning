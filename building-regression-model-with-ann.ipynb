{
 "cells": [
  {
   "cell_type": "markdown",
   "id": "1b5b4e9a",
   "metadata": {
    "papermill": {
     "duration": 0.007423,
     "end_time": "2025-01-01T11:45:21.813315",
     "exception": false,
     "start_time": "2025-01-01T11:45:21.805892",
     "status": "completed"
    },
    "tags": []
   },
   "source": [
    "# Objective\n",
    "## 1. Getting familiar to work with keras library and building ANNs.\n",
    "## 2. Focus is on building a model for regression problem.\n",
    "### (Note: Not focusing much on building the perfect model)\n"
   ]
  },
  {
   "cell_type": "code",
   "execution_count": 1,
   "id": "9f58cb8f",
   "metadata": {
    "_cell_guid": "b1076dfc-b9ad-4769-8c92-a6c4dae69d19",
    "_uuid": "8f2839f25d086af736a60e9eeb907d3b93b6e0e5",
    "execution": {
     "iopub.execute_input": "2025-01-01T11:45:21.828449Z",
     "iopub.status.busy": "2025-01-01T11:45:21.828066Z",
     "iopub.status.idle": "2025-01-01T11:45:22.624956Z",
     "shell.execute_reply": "2025-01-01T11:45:22.623779Z"
    },
    "papermill": {
     "duration": 0.806242,
     "end_time": "2025-01-01T11:45:22.626714",
     "exception": false,
     "start_time": "2025-01-01T11:45:21.820472",
     "status": "completed"
    },
    "tags": []
   },
   "outputs": [
    {
     "name": "stdout",
     "output_type": "stream",
     "text": [
      "/kaggle/input/graduate-admissions/Admission_Predict.csv\n",
      "/kaggle/input/graduate-admissions/Admission_Predict_Ver1.1.csv\n"
     ]
    }
   ],
   "source": [
    "# This Python 3 environment comes with many helpful analytics libraries installed\n",
    "# It is defined by the kaggle/python Docker image: https://github.com/kaggle/docker-python\n",
    "# For example, here's several helpful packages to load\n",
    "\n",
    "import numpy as np # linear algebra\n",
    "import pandas as pd # data processing, CSV file I/O (e.g. pd.read_csv)\n",
    "\n",
    "# Input data files are available in the read-only \"../input/\" directory\n",
    "# For example, running this (by clicking run or pressing Shift+Enter) will list all files under the input directory\n",
    "\n",
    "import os\n",
    "for dirname, _, filenames in os.walk('/kaggle/input'):\n",
    "    for filename in filenames:\n",
    "        print(os.path.join(dirname, filename))\n",
    "\n",
    "# You can write up to 20GB to the current directory (/kaggle/working/) that gets preserved as output when you create a version using \"Save & Run All\" \n",
    "# You can also write temporary files to /kaggle/temp/, but they won't be saved outside of the current session"
   ]
  },
  {
   "cell_type": "code",
   "execution_count": 2,
   "id": "0d793aae",
   "metadata": {
    "execution": {
     "iopub.execute_input": "2025-01-01T11:45:22.642003Z",
     "iopub.status.busy": "2025-01-01T11:45:22.641482Z",
     "iopub.status.idle": "2025-01-01T11:45:22.645451Z",
     "shell.execute_reply": "2025-01-01T11:45:22.644606Z"
    },
    "papermill": {
     "duration": 0.013268,
     "end_time": "2025-01-01T11:45:22.647037",
     "exception": false,
     "start_time": "2025-01-01T11:45:22.633769",
     "status": "completed"
    },
    "tags": []
   },
   "outputs": [],
   "source": [
    "import pandas as pd\n",
    "import numpy as np"
   ]
  },
  {
   "cell_type": "code",
   "execution_count": 3,
   "id": "2ca9b965",
   "metadata": {
    "execution": {
     "iopub.execute_input": "2025-01-01T11:45:22.662066Z",
     "iopub.status.busy": "2025-01-01T11:45:22.661645Z",
     "iopub.status.idle": "2025-01-01T11:45:22.698549Z",
     "shell.execute_reply": "2025-01-01T11:45:22.697491Z"
    },
    "papermill": {
     "duration": 0.046113,
     "end_time": "2025-01-01T11:45:22.700275",
     "exception": false,
     "start_time": "2025-01-01T11:45:22.654162",
     "status": "completed"
    },
    "tags": []
   },
   "outputs": [
    {
     "data": {
      "text/html": [
       "<div>\n",
       "<style scoped>\n",
       "    .dataframe tbody tr th:only-of-type {\n",
       "        vertical-align: middle;\n",
       "    }\n",
       "\n",
       "    .dataframe tbody tr th {\n",
       "        vertical-align: top;\n",
       "    }\n",
       "\n",
       "    .dataframe thead th {\n",
       "        text-align: right;\n",
       "    }\n",
       "</style>\n",
       "<table border=\"1\" class=\"dataframe\">\n",
       "  <thead>\n",
       "    <tr style=\"text-align: right;\">\n",
       "      <th></th>\n",
       "      <th>Serial No.</th>\n",
       "      <th>GRE Score</th>\n",
       "      <th>TOEFL Score</th>\n",
       "      <th>University Rating</th>\n",
       "      <th>SOP</th>\n",
       "      <th>LOR</th>\n",
       "      <th>CGPA</th>\n",
       "      <th>Research</th>\n",
       "      <th>Chance of Admit</th>\n",
       "    </tr>\n",
       "  </thead>\n",
       "  <tbody>\n",
       "    <tr>\n",
       "      <th>0</th>\n",
       "      <td>1</td>\n",
       "      <td>337</td>\n",
       "      <td>118</td>\n",
       "      <td>4</td>\n",
       "      <td>4.5</td>\n",
       "      <td>4.5</td>\n",
       "      <td>9.65</td>\n",
       "      <td>1</td>\n",
       "      <td>0.92</td>\n",
       "    </tr>\n",
       "    <tr>\n",
       "      <th>1</th>\n",
       "      <td>2</td>\n",
       "      <td>324</td>\n",
       "      <td>107</td>\n",
       "      <td>4</td>\n",
       "      <td>4.0</td>\n",
       "      <td>4.5</td>\n",
       "      <td>8.87</td>\n",
       "      <td>1</td>\n",
       "      <td>0.76</td>\n",
       "    </tr>\n",
       "    <tr>\n",
       "      <th>2</th>\n",
       "      <td>3</td>\n",
       "      <td>316</td>\n",
       "      <td>104</td>\n",
       "      <td>3</td>\n",
       "      <td>3.0</td>\n",
       "      <td>3.5</td>\n",
       "      <td>8.00</td>\n",
       "      <td>1</td>\n",
       "      <td>0.72</td>\n",
       "    </tr>\n",
       "    <tr>\n",
       "      <th>3</th>\n",
       "      <td>4</td>\n",
       "      <td>322</td>\n",
       "      <td>110</td>\n",
       "      <td>3</td>\n",
       "      <td>3.5</td>\n",
       "      <td>2.5</td>\n",
       "      <td>8.67</td>\n",
       "      <td>1</td>\n",
       "      <td>0.80</td>\n",
       "    </tr>\n",
       "    <tr>\n",
       "      <th>4</th>\n",
       "      <td>5</td>\n",
       "      <td>314</td>\n",
       "      <td>103</td>\n",
       "      <td>2</td>\n",
       "      <td>2.0</td>\n",
       "      <td>3.0</td>\n",
       "      <td>8.21</td>\n",
       "      <td>0</td>\n",
       "      <td>0.65</td>\n",
       "    </tr>\n",
       "  </tbody>\n",
       "</table>\n",
       "</div>"
      ],
      "text/plain": [
       "   Serial No.  GRE Score  TOEFL Score  University Rating  SOP  LOR   CGPA  \\\n",
       "0           1        337          118                  4  4.5   4.5  9.65   \n",
       "1           2        324          107                  4  4.0   4.5  8.87   \n",
       "2           3        316          104                  3  3.0   3.5  8.00   \n",
       "3           4        322          110                  3  3.5   2.5  8.67   \n",
       "4           5        314          103                  2  2.0   3.0  8.21   \n",
       "\n",
       "   Research  Chance of Admit   \n",
       "0         1              0.92  \n",
       "1         1              0.76  \n",
       "2         1              0.72  \n",
       "3         1              0.80  \n",
       "4         0              0.65  "
      ]
     },
     "execution_count": 3,
     "metadata": {},
     "output_type": "execute_result"
    }
   ],
   "source": [
    "df= pd.read_csv(\"/kaggle/input/graduate-admissions/Admission_Predict_Ver1.1.csv\")\n",
    "df.head()"
   ]
  },
  {
   "cell_type": "code",
   "execution_count": 4,
   "id": "1f341a3c",
   "metadata": {
    "execution": {
     "iopub.execute_input": "2025-01-01T11:45:22.715742Z",
     "iopub.status.busy": "2025-01-01T11:45:22.715331Z",
     "iopub.status.idle": "2025-01-01T11:45:22.722633Z",
     "shell.execute_reply": "2025-01-01T11:45:22.721690Z"
    },
    "papermill": {
     "duration": 0.016776,
     "end_time": "2025-01-01T11:45:22.724285",
     "exception": false,
     "start_time": "2025-01-01T11:45:22.707509",
     "status": "completed"
    },
    "tags": []
   },
   "outputs": [
    {
     "data": {
      "text/plain": [
       "Index(['Serial No.', 'GRE Score', 'TOEFL Score', 'University Rating', 'SOP',\n",
       "       'LOR ', 'CGPA', 'Research', 'Chance of Admit '],\n",
       "      dtype='object')"
      ]
     },
     "execution_count": 4,
     "metadata": {},
     "output_type": "execute_result"
    }
   ],
   "source": [
    "df.columns"
   ]
  },
  {
   "cell_type": "markdown",
   "id": "e46839de",
   "metadata": {
    "papermill": {
     "duration": 0.006773,
     "end_time": "2025-01-01T11:45:22.738800",
     "exception": false,
     "start_time": "2025-01-01T11:45:22.732027",
     "status": "completed"
    },
    "tags": []
   },
   "source": [
    "### Independent columns: \n",
    "#### 'Serial No.', 'GRE Score', 'TOEFL Score', 'University Rating', 'SOP', 'LOR ', 'CGPA','Research'\n",
    "\n",
    "### Dependent column: \n",
    "#### 'Chance of Admit '"
   ]
  },
  {
   "cell_type": "code",
   "execution_count": 5,
   "id": "bcde2ea3",
   "metadata": {
    "execution": {
     "iopub.execute_input": "2025-01-01T11:45:22.754079Z",
     "iopub.status.busy": "2025-01-01T11:45:22.753752Z",
     "iopub.status.idle": "2025-01-01T11:45:22.759196Z",
     "shell.execute_reply": "2025-01-01T11:45:22.758370Z"
    },
    "papermill": {
     "duration": 0.014787,
     "end_time": "2025-01-01T11:45:22.760641",
     "exception": false,
     "start_time": "2025-01-01T11:45:22.745854",
     "status": "completed"
    },
    "tags": []
   },
   "outputs": [
    {
     "data": {
      "text/plain": [
       "(500, 9)"
      ]
     },
     "execution_count": 5,
     "metadata": {},
     "output_type": "execute_result"
    }
   ],
   "source": [
    "df.shape"
   ]
  },
  {
   "cell_type": "code",
   "execution_count": 6,
   "id": "94a350f0",
   "metadata": {
    "execution": {
     "iopub.execute_input": "2025-01-01T11:45:22.776027Z",
     "iopub.status.busy": "2025-01-01T11:45:22.775672Z",
     "iopub.status.idle": "2025-01-01T11:45:22.798764Z",
     "shell.execute_reply": "2025-01-01T11:45:22.797470Z"
    },
    "papermill": {
     "duration": 0.032652,
     "end_time": "2025-01-01T11:45:22.800484",
     "exception": false,
     "start_time": "2025-01-01T11:45:22.767832",
     "status": "completed"
    },
    "tags": []
   },
   "outputs": [
    {
     "name": "stdout",
     "output_type": "stream",
     "text": [
      "<class 'pandas.core.frame.DataFrame'>\n",
      "RangeIndex: 500 entries, 0 to 499\n",
      "Data columns (total 9 columns):\n",
      " #   Column             Non-Null Count  Dtype  \n",
      "---  ------             --------------  -----  \n",
      " 0   Serial No.         500 non-null    int64  \n",
      " 1   GRE Score          500 non-null    int64  \n",
      " 2   TOEFL Score        500 non-null    int64  \n",
      " 3   University Rating  500 non-null    int64  \n",
      " 4   SOP                500 non-null    float64\n",
      " 5   LOR                500 non-null    float64\n",
      " 6   CGPA               500 non-null    float64\n",
      " 7   Research           500 non-null    int64  \n",
      " 8   Chance of Admit    500 non-null    float64\n",
      "dtypes: float64(4), int64(5)\n",
      "memory usage: 35.3 KB\n"
     ]
    }
   ],
   "source": [
    "df.info()"
   ]
  },
  {
   "cell_type": "markdown",
   "id": "c8fe6701",
   "metadata": {
    "papermill": {
     "duration": 0.006898,
     "end_time": "2025-01-01T11:45:22.814869",
     "exception": false,
     "start_time": "2025-01-01T11:45:22.807971",
     "status": "completed"
    },
    "tags": []
   },
   "source": [
    "## All the columns are of the correct datatypes."
   ]
  },
  {
   "cell_type": "code",
   "execution_count": 7,
   "id": "fa09288f",
   "metadata": {
    "execution": {
     "iopub.execute_input": "2025-01-01T11:45:22.831138Z",
     "iopub.status.busy": "2025-01-01T11:45:22.830764Z",
     "iopub.status.idle": "2025-01-01T11:45:22.837776Z",
     "shell.execute_reply": "2025-01-01T11:45:22.836776Z"
    },
    "papermill": {
     "duration": 0.016792,
     "end_time": "2025-01-01T11:45:22.839368",
     "exception": false,
     "start_time": "2025-01-01T11:45:22.822576",
     "status": "completed"
    },
    "tags": []
   },
   "outputs": [
    {
     "data": {
      "text/plain": [
       "Serial No.           0\n",
       "GRE Score            0\n",
       "TOEFL Score          0\n",
       "University Rating    0\n",
       "SOP                  0\n",
       "LOR                  0\n",
       "CGPA                 0\n",
       "Research             0\n",
       "Chance of Admit      0\n",
       "dtype: int64"
      ]
     },
     "execution_count": 7,
     "metadata": {},
     "output_type": "execute_result"
    }
   ],
   "source": [
    "df.isnull().sum()"
   ]
  },
  {
   "cell_type": "code",
   "execution_count": 8,
   "id": "13ba1984",
   "metadata": {
    "execution": {
     "iopub.execute_input": "2025-01-01T11:45:22.855529Z",
     "iopub.status.busy": "2025-01-01T11:45:22.855146Z",
     "iopub.status.idle": "2025-01-01T11:45:22.864169Z",
     "shell.execute_reply": "2025-01-01T11:45:22.863187Z"
    },
    "papermill": {
     "duration": 0.018781,
     "end_time": "2025-01-01T11:45:22.865692",
     "exception": false,
     "start_time": "2025-01-01T11:45:22.846911",
     "status": "completed"
    },
    "tags": []
   },
   "outputs": [
    {
     "data": {
      "text/plain": [
       "0"
      ]
     },
     "execution_count": 8,
     "metadata": {},
     "output_type": "execute_result"
    }
   ],
   "source": [
    "df.duplicated().sum()"
   ]
  },
  {
   "cell_type": "markdown",
   "id": "45c9f88e",
   "metadata": {
    "papermill": {
     "duration": 0.007113,
     "end_time": "2025-01-01T11:45:22.881721",
     "exception": false,
     "start_time": "2025-01-01T11:45:22.874608",
     "status": "completed"
    },
    "tags": []
   },
   "source": [
    "## Modifying data"
   ]
  },
  {
   "cell_type": "code",
   "execution_count": 9,
   "id": "464d8c6b",
   "metadata": {
    "execution": {
     "iopub.execute_input": "2025-01-01T11:45:22.897800Z",
     "iopub.status.busy": "2025-01-01T11:45:22.897439Z",
     "iopub.status.idle": "2025-01-01T11:45:22.909559Z",
     "shell.execute_reply": "2025-01-01T11:45:22.908585Z"
    },
    "papermill": {
     "duration": 0.022164,
     "end_time": "2025-01-01T11:45:22.911314",
     "exception": false,
     "start_time": "2025-01-01T11:45:22.889150",
     "status": "completed"
    },
    "tags": []
   },
   "outputs": [
    {
     "data": {
      "text/html": [
       "<div>\n",
       "<style scoped>\n",
       "    .dataframe tbody tr th:only-of-type {\n",
       "        vertical-align: middle;\n",
       "    }\n",
       "\n",
       "    .dataframe tbody tr th {\n",
       "        vertical-align: top;\n",
       "    }\n",
       "\n",
       "    .dataframe thead th {\n",
       "        text-align: right;\n",
       "    }\n",
       "</style>\n",
       "<table border=\"1\" class=\"dataframe\">\n",
       "  <thead>\n",
       "    <tr style=\"text-align: right;\">\n",
       "      <th></th>\n",
       "      <th>Serial No.</th>\n",
       "      <th>GRE Score</th>\n",
       "      <th>TOEFL Score</th>\n",
       "      <th>University Rating</th>\n",
       "      <th>SOP</th>\n",
       "      <th>LOR</th>\n",
       "      <th>CGPA</th>\n",
       "      <th>Research</th>\n",
       "      <th>Chance of Admit</th>\n",
       "    </tr>\n",
       "  </thead>\n",
       "  <tbody>\n",
       "    <tr>\n",
       "      <th>0</th>\n",
       "      <td>1</td>\n",
       "      <td>337</td>\n",
       "      <td>118</td>\n",
       "      <td>4</td>\n",
       "      <td>4.5</td>\n",
       "      <td>4.5</td>\n",
       "      <td>9.65</td>\n",
       "      <td>1</td>\n",
       "      <td>0.92</td>\n",
       "    </tr>\n",
       "    <tr>\n",
       "      <th>1</th>\n",
       "      <td>2</td>\n",
       "      <td>324</td>\n",
       "      <td>107</td>\n",
       "      <td>4</td>\n",
       "      <td>4.0</td>\n",
       "      <td>4.5</td>\n",
       "      <td>8.87</td>\n",
       "      <td>1</td>\n",
       "      <td>0.76</td>\n",
       "    </tr>\n",
       "    <tr>\n",
       "      <th>2</th>\n",
       "      <td>3</td>\n",
       "      <td>316</td>\n",
       "      <td>104</td>\n",
       "      <td>3</td>\n",
       "      <td>3.0</td>\n",
       "      <td>3.5</td>\n",
       "      <td>8.00</td>\n",
       "      <td>1</td>\n",
       "      <td>0.72</td>\n",
       "    </tr>\n",
       "    <tr>\n",
       "      <th>3</th>\n",
       "      <td>4</td>\n",
       "      <td>322</td>\n",
       "      <td>110</td>\n",
       "      <td>3</td>\n",
       "      <td>3.5</td>\n",
       "      <td>2.5</td>\n",
       "      <td>8.67</td>\n",
       "      <td>1</td>\n",
       "      <td>0.80</td>\n",
       "    </tr>\n",
       "    <tr>\n",
       "      <th>4</th>\n",
       "      <td>5</td>\n",
       "      <td>314</td>\n",
       "      <td>103</td>\n",
       "      <td>2</td>\n",
       "      <td>2.0</td>\n",
       "      <td>3.0</td>\n",
       "      <td>8.21</td>\n",
       "      <td>0</td>\n",
       "      <td>0.65</td>\n",
       "    </tr>\n",
       "  </tbody>\n",
       "</table>\n",
       "</div>"
      ],
      "text/plain": [
       "   Serial No.  GRE Score  TOEFL Score  University Rating  SOP  LOR   CGPA  \\\n",
       "0           1        337          118                  4  4.5   4.5  9.65   \n",
       "1           2        324          107                  4  4.0   4.5  8.87   \n",
       "2           3        316          104                  3  3.0   3.5  8.00   \n",
       "3           4        322          110                  3  3.5   2.5  8.67   \n",
       "4           5        314          103                  2  2.0   3.0  8.21   \n",
       "\n",
       "   Research  Chance of Admit   \n",
       "0         1              0.92  \n",
       "1         1              0.76  \n",
       "2         1              0.72  \n",
       "3         1              0.80  \n",
       "4         0              0.65  "
      ]
     },
     "execution_count": 9,
     "metadata": {},
     "output_type": "execute_result"
    }
   ],
   "source": [
    "df.head()"
   ]
  },
  {
   "cell_type": "markdown",
   "id": "b2c3b7b7",
   "metadata": {
    "papermill": {
     "duration": 0.007339,
     "end_time": "2025-01-01T11:45:22.926624",
     "exception": false,
     "start_time": "2025-01-01T11:45:22.919285",
     "status": "completed"
    },
    "tags": []
   },
   "source": [
    "### Drop the Serial No. column as it is not useful in the analysis."
   ]
  },
  {
   "cell_type": "code",
   "execution_count": 10,
   "id": "e4f691cd",
   "metadata": {
    "execution": {
     "iopub.execute_input": "2025-01-01T11:45:22.943990Z",
     "iopub.status.busy": "2025-01-01T11:45:22.943570Z",
     "iopub.status.idle": "2025-01-01T11:45:22.951207Z",
     "shell.execute_reply": "2025-01-01T11:45:22.950273Z"
    },
    "papermill": {
     "duration": 0.018106,
     "end_time": "2025-01-01T11:45:22.952939",
     "exception": false,
     "start_time": "2025-01-01T11:45:22.934833",
     "status": "completed"
    },
    "tags": []
   },
   "outputs": [],
   "source": [
    "df.drop('Serial No.', axis=1, inplace=True)"
   ]
  },
  {
   "cell_type": "code",
   "execution_count": 11,
   "id": "6038cf06",
   "metadata": {
    "execution": {
     "iopub.execute_input": "2025-01-01T11:45:22.970558Z",
     "iopub.status.busy": "2025-01-01T11:45:22.970143Z",
     "iopub.status.idle": "2025-01-01T11:45:22.982524Z",
     "shell.execute_reply": "2025-01-01T11:45:22.981477Z"
    },
    "papermill": {
     "duration": 0.022839,
     "end_time": "2025-01-01T11:45:22.984067",
     "exception": false,
     "start_time": "2025-01-01T11:45:22.961228",
     "status": "completed"
    },
    "tags": []
   },
   "outputs": [
    {
     "data": {
      "text/html": [
       "<div>\n",
       "<style scoped>\n",
       "    .dataframe tbody tr th:only-of-type {\n",
       "        vertical-align: middle;\n",
       "    }\n",
       "\n",
       "    .dataframe tbody tr th {\n",
       "        vertical-align: top;\n",
       "    }\n",
       "\n",
       "    .dataframe thead th {\n",
       "        text-align: right;\n",
       "    }\n",
       "</style>\n",
       "<table border=\"1\" class=\"dataframe\">\n",
       "  <thead>\n",
       "    <tr style=\"text-align: right;\">\n",
       "      <th></th>\n",
       "      <th>GRE Score</th>\n",
       "      <th>TOEFL Score</th>\n",
       "      <th>University Rating</th>\n",
       "      <th>SOP</th>\n",
       "      <th>LOR</th>\n",
       "      <th>CGPA</th>\n",
       "      <th>Research</th>\n",
       "      <th>Chance of Admit</th>\n",
       "    </tr>\n",
       "  </thead>\n",
       "  <tbody>\n",
       "    <tr>\n",
       "      <th>0</th>\n",
       "      <td>337</td>\n",
       "      <td>118</td>\n",
       "      <td>4</td>\n",
       "      <td>4.5</td>\n",
       "      <td>4.5</td>\n",
       "      <td>9.65</td>\n",
       "      <td>1</td>\n",
       "      <td>0.92</td>\n",
       "    </tr>\n",
       "    <tr>\n",
       "      <th>1</th>\n",
       "      <td>324</td>\n",
       "      <td>107</td>\n",
       "      <td>4</td>\n",
       "      <td>4.0</td>\n",
       "      <td>4.5</td>\n",
       "      <td>8.87</td>\n",
       "      <td>1</td>\n",
       "      <td>0.76</td>\n",
       "    </tr>\n",
       "    <tr>\n",
       "      <th>2</th>\n",
       "      <td>316</td>\n",
       "      <td>104</td>\n",
       "      <td>3</td>\n",
       "      <td>3.0</td>\n",
       "      <td>3.5</td>\n",
       "      <td>8.00</td>\n",
       "      <td>1</td>\n",
       "      <td>0.72</td>\n",
       "    </tr>\n",
       "    <tr>\n",
       "      <th>3</th>\n",
       "      <td>322</td>\n",
       "      <td>110</td>\n",
       "      <td>3</td>\n",
       "      <td>3.5</td>\n",
       "      <td>2.5</td>\n",
       "      <td>8.67</td>\n",
       "      <td>1</td>\n",
       "      <td>0.80</td>\n",
       "    </tr>\n",
       "    <tr>\n",
       "      <th>4</th>\n",
       "      <td>314</td>\n",
       "      <td>103</td>\n",
       "      <td>2</td>\n",
       "      <td>2.0</td>\n",
       "      <td>3.0</td>\n",
       "      <td>8.21</td>\n",
       "      <td>0</td>\n",
       "      <td>0.65</td>\n",
       "    </tr>\n",
       "  </tbody>\n",
       "</table>\n",
       "</div>"
      ],
      "text/plain": [
       "   GRE Score  TOEFL Score  University Rating  SOP  LOR   CGPA  Research  \\\n",
       "0        337          118                  4  4.5   4.5  9.65         1   \n",
       "1        324          107                  4  4.0   4.5  8.87         1   \n",
       "2        316          104                  3  3.0   3.5  8.00         1   \n",
       "3        322          110                  3  3.5   2.5  8.67         1   \n",
       "4        314          103                  2  2.0   3.0  8.21         0   \n",
       "\n",
       "   Chance of Admit   \n",
       "0              0.92  \n",
       "1              0.76  \n",
       "2              0.72  \n",
       "3              0.80  \n",
       "4              0.65  "
      ]
     },
     "execution_count": 11,
     "metadata": {},
     "output_type": "execute_result"
    }
   ],
   "source": [
    "df.head()"
   ]
  },
  {
   "cell_type": "markdown",
   "id": "c2efa81a",
   "metadata": {
    "papermill": {
     "duration": 0.008066,
     "end_time": "2025-01-01T11:45:23.000713",
     "exception": false,
     "start_time": "2025-01-01T11:45:22.992647",
     "status": "completed"
    },
    "tags": []
   },
   "source": [
    "## Scaling the data in order to ensure that all the features contribute equally in the building of the model. It is also done to help in convergence of the weights.\n",
    "\n",
    "## MinMax scaling will be applied on the data as we are aware of the upper bound and lower bound of the data."
   ]
  },
  {
   "cell_type": "markdown",
   "id": "b48089f3",
   "metadata": {
    "papermill": {
     "duration": 0.007719,
     "end_time": "2025-01-01T11:45:23.016581",
     "exception": false,
     "start_time": "2025-01-01T11:45:23.008862",
     "status": "completed"
    },
    "tags": []
   },
   "source": [
    "## Splitting of the data into train and test before scaling."
   ]
  },
  {
   "cell_type": "code",
   "execution_count": 12,
   "id": "be140bbc",
   "metadata": {
    "execution": {
     "iopub.execute_input": "2025-01-01T11:45:23.034010Z",
     "iopub.status.busy": "2025-01-01T11:45:23.033621Z",
     "iopub.status.idle": "2025-01-01T11:45:23.038854Z",
     "shell.execute_reply": "2025-01-01T11:45:23.037805Z"
    },
    "papermill": {
     "duration": 0.015743,
     "end_time": "2025-01-01T11:45:23.040463",
     "exception": false,
     "start_time": "2025-01-01T11:45:23.024720",
     "status": "completed"
    },
    "tags": []
   },
   "outputs": [],
   "source": [
    "X= df.iloc[:,:-1]\n",
    "y= df.iloc[:,-1]"
   ]
  },
  {
   "cell_type": "code",
   "execution_count": 13,
   "id": "79ed0e3e",
   "metadata": {
    "execution": {
     "iopub.execute_input": "2025-01-01T11:45:23.057627Z",
     "iopub.status.busy": "2025-01-01T11:45:23.057234Z",
     "iopub.status.idle": "2025-01-01T11:45:24.247564Z",
     "shell.execute_reply": "2025-01-01T11:45:24.246676Z"
    },
    "papermill": {
     "duration": 1.200908,
     "end_time": "2025-01-01T11:45:24.249428",
     "exception": false,
     "start_time": "2025-01-01T11:45:23.048520",
     "status": "completed"
    },
    "tags": []
   },
   "outputs": [],
   "source": [
    "from sklearn.model_selection import train_test_split as tts"
   ]
  },
  {
   "cell_type": "code",
   "execution_count": 14,
   "id": "3ba7740c",
   "metadata": {
    "execution": {
     "iopub.execute_input": "2025-01-01T11:45:24.267885Z",
     "iopub.status.busy": "2025-01-01T11:45:24.267153Z",
     "iopub.status.idle": "2025-01-01T11:45:24.276001Z",
     "shell.execute_reply": "2025-01-01T11:45:24.275004Z"
    },
    "papermill": {
     "duration": 0.019807,
     "end_time": "2025-01-01T11:45:24.277565",
     "exception": false,
     "start_time": "2025-01-01T11:45:24.257758",
     "status": "completed"
    },
    "tags": []
   },
   "outputs": [],
   "source": [
    "X_train, X_test, y_train, y_test= tts(X, y, test_size=0.2, random_state=0)"
   ]
  },
  {
   "cell_type": "code",
   "execution_count": 15,
   "id": "a216447c",
   "metadata": {
    "execution": {
     "iopub.execute_input": "2025-01-01T11:45:24.295779Z",
     "iopub.status.busy": "2025-01-01T11:45:24.295421Z",
     "iopub.status.idle": "2025-01-01T11:45:24.309711Z",
     "shell.execute_reply": "2025-01-01T11:45:24.308665Z"
    },
    "papermill": {
     "duration": 0.025253,
     "end_time": "2025-01-01T11:45:24.311433",
     "exception": false,
     "start_time": "2025-01-01T11:45:24.286180",
     "status": "completed"
    },
    "tags": []
   },
   "outputs": [
    {
     "data": {
      "text/html": [
       "<div>\n",
       "<style scoped>\n",
       "    .dataframe tbody tr th:only-of-type {\n",
       "        vertical-align: middle;\n",
       "    }\n",
       "\n",
       "    .dataframe tbody tr th {\n",
       "        vertical-align: top;\n",
       "    }\n",
       "\n",
       "    .dataframe thead th {\n",
       "        text-align: right;\n",
       "    }\n",
       "</style>\n",
       "<table border=\"1\" class=\"dataframe\">\n",
       "  <thead>\n",
       "    <tr style=\"text-align: right;\">\n",
       "      <th></th>\n",
       "      <th>GRE Score</th>\n",
       "      <th>TOEFL Score</th>\n",
       "      <th>University Rating</th>\n",
       "      <th>SOP</th>\n",
       "      <th>LOR</th>\n",
       "      <th>CGPA</th>\n",
       "      <th>Research</th>\n",
       "    </tr>\n",
       "  </thead>\n",
       "  <tbody>\n",
       "    <tr>\n",
       "      <th>107</th>\n",
       "      <td>338</td>\n",
       "      <td>117</td>\n",
       "      <td>4</td>\n",
       "      <td>3.5</td>\n",
       "      <td>4.5</td>\n",
       "      <td>9.46</td>\n",
       "      <td>1</td>\n",
       "    </tr>\n",
       "    <tr>\n",
       "      <th>336</th>\n",
       "      <td>319</td>\n",
       "      <td>110</td>\n",
       "      <td>3</td>\n",
       "      <td>3.0</td>\n",
       "      <td>2.5</td>\n",
       "      <td>8.79</td>\n",
       "      <td>0</td>\n",
       "    </tr>\n",
       "    <tr>\n",
       "      <th>71</th>\n",
       "      <td>336</td>\n",
       "      <td>112</td>\n",
       "      <td>5</td>\n",
       "      <td>5.0</td>\n",
       "      <td>5.0</td>\n",
       "      <td>9.76</td>\n",
       "      <td>1</td>\n",
       "    </tr>\n",
       "    <tr>\n",
       "      <th>474</th>\n",
       "      <td>308</td>\n",
       "      <td>105</td>\n",
       "      <td>4</td>\n",
       "      <td>3.0</td>\n",
       "      <td>2.5</td>\n",
       "      <td>7.95</td>\n",
       "      <td>1</td>\n",
       "    </tr>\n",
       "    <tr>\n",
       "      <th>6</th>\n",
       "      <td>321</td>\n",
       "      <td>109</td>\n",
       "      <td>3</td>\n",
       "      <td>3.0</td>\n",
       "      <td>4.0</td>\n",
       "      <td>8.20</td>\n",
       "      <td>1</td>\n",
       "    </tr>\n",
       "    <tr>\n",
       "      <th>...</th>\n",
       "      <td>...</td>\n",
       "      <td>...</td>\n",
       "      <td>...</td>\n",
       "      <td>...</td>\n",
       "      <td>...</td>\n",
       "      <td>...</td>\n",
       "      <td>...</td>\n",
       "    </tr>\n",
       "    <tr>\n",
       "      <th>323</th>\n",
       "      <td>305</td>\n",
       "      <td>102</td>\n",
       "      <td>2</td>\n",
       "      <td>2.0</td>\n",
       "      <td>2.5</td>\n",
       "      <td>8.18</td>\n",
       "      <td>0</td>\n",
       "    </tr>\n",
       "    <tr>\n",
       "      <th>192</th>\n",
       "      <td>322</td>\n",
       "      <td>114</td>\n",
       "      <td>5</td>\n",
       "      <td>4.5</td>\n",
       "      <td>4.0</td>\n",
       "      <td>8.94</td>\n",
       "      <td>1</td>\n",
       "    </tr>\n",
       "    <tr>\n",
       "      <th>117</th>\n",
       "      <td>290</td>\n",
       "      <td>104</td>\n",
       "      <td>4</td>\n",
       "      <td>2.0</td>\n",
       "      <td>2.5</td>\n",
       "      <td>7.46</td>\n",
       "      <td>0</td>\n",
       "    </tr>\n",
       "    <tr>\n",
       "      <th>47</th>\n",
       "      <td>339</td>\n",
       "      <td>119</td>\n",
       "      <td>5</td>\n",
       "      <td>4.5</td>\n",
       "      <td>4.0</td>\n",
       "      <td>9.70</td>\n",
       "      <td>0</td>\n",
       "    </tr>\n",
       "    <tr>\n",
       "      <th>172</th>\n",
       "      <td>322</td>\n",
       "      <td>110</td>\n",
       "      <td>4</td>\n",
       "      <td>4.0</td>\n",
       "      <td>5.0</td>\n",
       "      <td>9.13</td>\n",
       "      <td>1</td>\n",
       "    </tr>\n",
       "  </tbody>\n",
       "</table>\n",
       "<p>400 rows × 7 columns</p>\n",
       "</div>"
      ],
      "text/plain": [
       "     GRE Score  TOEFL Score  University Rating  SOP  LOR   CGPA  Research\n",
       "107        338          117                  4  3.5   4.5  9.46         1\n",
       "336        319          110                  3  3.0   2.5  8.79         0\n",
       "71         336          112                  5  5.0   5.0  9.76         1\n",
       "474        308          105                  4  3.0   2.5  7.95         1\n",
       "6          321          109                  3  3.0   4.0  8.20         1\n",
       "..         ...          ...                ...  ...   ...   ...       ...\n",
       "323        305          102                  2  2.0   2.5  8.18         0\n",
       "192        322          114                  5  4.5   4.0  8.94         1\n",
       "117        290          104                  4  2.0   2.5  7.46         0\n",
       "47         339          119                  5  4.5   4.0  9.70         0\n",
       "172        322          110                  4  4.0   5.0  9.13         1\n",
       "\n",
       "[400 rows x 7 columns]"
      ]
     },
     "execution_count": 15,
     "metadata": {},
     "output_type": "execute_result"
    }
   ],
   "source": [
    "X_train"
   ]
  },
  {
   "cell_type": "code",
   "execution_count": 16,
   "id": "133023ab",
   "metadata": {
    "execution": {
     "iopub.execute_input": "2025-01-01T11:45:24.329123Z",
     "iopub.status.busy": "2025-01-01T11:45:24.328789Z",
     "iopub.status.idle": "2025-01-01T11:45:24.332741Z",
     "shell.execute_reply": "2025-01-01T11:45:24.331870Z"
    },
    "papermill": {
     "duration": 0.014488,
     "end_time": "2025-01-01T11:45:24.334289",
     "exception": false,
     "start_time": "2025-01-01T11:45:24.319801",
     "status": "completed"
    },
    "tags": []
   },
   "outputs": [],
   "source": [
    "from sklearn.preprocessing import MinMaxScaler\n",
    "mms= MinMaxScaler()"
   ]
  },
  {
   "cell_type": "code",
   "execution_count": 17,
   "id": "a5e06730",
   "metadata": {
    "execution": {
     "iopub.execute_input": "2025-01-01T11:45:24.351747Z",
     "iopub.status.busy": "2025-01-01T11:45:24.351383Z",
     "iopub.status.idle": "2025-01-01T11:45:24.360216Z",
     "shell.execute_reply": "2025-01-01T11:45:24.359429Z"
    },
    "papermill": {
     "duration": 0.019313,
     "end_time": "2025-01-01T11:45:24.361784",
     "exception": false,
     "start_time": "2025-01-01T11:45:24.342471",
     "status": "completed"
    },
    "tags": []
   },
   "outputs": [],
   "source": [
    "X_train= mms.fit_transform(X_train)\n",
    "X_test= mms.transform(X_test)"
   ]
  },
  {
   "cell_type": "code",
   "execution_count": 18,
   "id": "776e408e",
   "metadata": {
    "execution": {
     "iopub.execute_input": "2025-01-01T11:45:24.379408Z",
     "iopub.status.busy": "2025-01-01T11:45:24.379025Z",
     "iopub.status.idle": "2025-01-01T11:45:24.385086Z",
     "shell.execute_reply": "2025-01-01T11:45:24.384211Z"
    },
    "papermill": {
     "duration": 0.016418,
     "end_time": "2025-01-01T11:45:24.386530",
     "exception": false,
     "start_time": "2025-01-01T11:45:24.370112",
     "status": "completed"
    },
    "tags": []
   },
   "outputs": [
    {
     "data": {
      "text/plain": [
       "array([[0.96      , 0.89285714, 0.75      , ..., 0.875     , 0.8525641 ,\n",
       "        1.        ],\n",
       "       [0.58      , 0.64285714, 0.5       , ..., 0.375     , 0.63782051,\n",
       "        0.        ],\n",
       "       [0.92      , 0.71428571, 1.        , ..., 1.        , 0.94871795,\n",
       "        1.        ],\n",
       "       ...,\n",
       "       [0.        , 0.42857143, 0.75      , ..., 0.375     , 0.21153846,\n",
       "        0.        ],\n",
       "       [0.98      , 0.96428571, 1.        , ..., 0.75      , 0.92948718,\n",
       "        0.        ],\n",
       "       [0.64      , 0.64285714, 0.75      , ..., 1.        , 0.74679487,\n",
       "        1.        ]])"
      ]
     },
     "execution_count": 18,
     "metadata": {},
     "output_type": "execute_result"
    }
   ],
   "source": [
    "X_train"
   ]
  },
  {
   "cell_type": "code",
   "execution_count": 19,
   "id": "720eb1c0",
   "metadata": {
    "execution": {
     "iopub.execute_input": "2025-01-01T11:45:24.404312Z",
     "iopub.status.busy": "2025-01-01T11:45:24.403970Z",
     "iopub.status.idle": "2025-01-01T11:45:24.409224Z",
     "shell.execute_reply": "2025-01-01T11:45:24.408163Z"
    },
    "papermill": {
     "duration": 0.01578,
     "end_time": "2025-01-01T11:45:24.410680",
     "exception": false,
     "start_time": "2025-01-01T11:45:24.394900",
     "status": "completed"
    },
    "tags": []
   },
   "outputs": [
    {
     "name": "stdout",
     "output_type": "stream",
     "text": [
      "(400, 7)\n",
      "(100, 7)\n"
     ]
    }
   ],
   "source": [
    "print(X_train.shape)\n",
    "print(X_test.shape)"
   ]
  },
  {
   "cell_type": "markdown",
   "id": "a8f63d58",
   "metadata": {
    "papermill": {
     "duration": 0.007999,
     "end_time": "2025-01-01T11:45:24.427244",
     "exception": false,
     "start_time": "2025-01-01T11:45:24.419245",
     "status": "completed"
    },
    "tags": []
   },
   "source": [
    "## We do not use fit_transform in X_test as we do not want the program to be know the values of the test set."
   ]
  },
  {
   "cell_type": "markdown",
   "id": "714f6754",
   "metadata": {
    "papermill": {
     "duration": 0.008089,
     "end_time": "2025-01-01T11:45:24.443743",
     "exception": false,
     "start_time": "2025-01-01T11:45:24.435654",
     "status": "completed"
    },
    "tags": []
   },
   "source": [
    "# Architecture of the ANNs\n",
    "\n",
    "## 7 input features two dense layers having 10 nodes each and one output layer having 1 node."
   ]
  },
  {
   "cell_type": "markdown",
   "id": "4f29a66f",
   "metadata": {
    "papermill": {
     "duration": 0.007974,
     "end_time": "2025-01-01T11:45:24.460059",
     "exception": false,
     "start_time": "2025-01-01T11:45:24.452085",
     "status": "completed"
    },
    "tags": []
   },
   "source": [
    "# Building Artificial Neural Network"
   ]
  },
  {
   "cell_type": "code",
   "execution_count": 20,
   "id": "d3093d35",
   "metadata": {
    "execution": {
     "iopub.execute_input": "2025-01-01T11:45:24.478034Z",
     "iopub.status.busy": "2025-01-01T11:45:24.477654Z",
     "iopub.status.idle": "2025-01-01T11:45:33.320283Z",
     "shell.execute_reply": "2025-01-01T11:45:33.319409Z"
    },
    "papermill": {
     "duration": 8.853709,
     "end_time": "2025-01-01T11:45:33.322237",
     "exception": false,
     "start_time": "2025-01-01T11:45:24.468528",
     "status": "completed"
    },
    "tags": []
   },
   "outputs": [],
   "source": [
    "import tensorflow\n",
    "from tensorflow import keras\n",
    "from keras import Sequential\n",
    "from keras.layers import Dense"
   ]
  },
  {
   "cell_type": "code",
   "execution_count": 21,
   "id": "85753b07",
   "metadata": {
    "execution": {
     "iopub.execute_input": "2025-01-01T11:45:33.340529Z",
     "iopub.status.busy": "2025-01-01T11:45:33.339899Z",
     "iopub.status.idle": "2025-01-01T11:45:33.431167Z",
     "shell.execute_reply": "2025-01-01T11:45:33.429983Z"
    },
    "papermill": {
     "duration": 0.102291,
     "end_time": "2025-01-01T11:45:33.433034",
     "exception": false,
     "start_time": "2025-01-01T11:45:33.330743",
     "status": "completed"
    },
    "tags": []
   },
   "outputs": [
    {
     "name": "stderr",
     "output_type": "stream",
     "text": [
      "/usr/local/lib/python3.10/dist-packages/keras/src/layers/core/dense.py:87: UserWarning: Do not pass an `input_shape`/`input_dim` argument to a layer. When using Sequential models, prefer using an `Input(shape)` object as the first layer in the model instead.\n",
      "  super().__init__(activity_regularizer=activity_regularizer, **kwargs)\n"
     ]
    }
   ],
   "source": [
    "#blank canvas\n",
    "model= Sequential()\n",
    "\n",
    "#first hidden layer\n",
    "model.add(Dense(10, activation='relu', input_dim= 7)) \n",
    "#input_dim= 7 is the information about input layer\n",
    "\n",
    "#second hidden layer\n",
    "model.add(Dense(10, activation='relu'))\n",
    "          \n",
    "#output layer\n",
    "model.add(Dense(1, activation= 'linear'))\n",
    "#for regression problems the activation function of the node will be a linear function"
   ]
  },
  {
   "cell_type": "code",
   "execution_count": 22,
   "id": "7beae39d",
   "metadata": {
    "execution": {
     "iopub.execute_input": "2025-01-01T11:45:33.451209Z",
     "iopub.status.busy": "2025-01-01T11:45:33.450865Z",
     "iopub.status.idle": "2025-01-01T11:45:33.468883Z",
     "shell.execute_reply": "2025-01-01T11:45:33.467773Z"
    },
    "papermill": {
     "duration": 0.029199,
     "end_time": "2025-01-01T11:45:33.470785",
     "exception": false,
     "start_time": "2025-01-01T11:45:33.441586",
     "status": "completed"
    },
    "tags": []
   },
   "outputs": [
    {
     "data": {
      "text/html": [
       "<pre style=\"white-space:pre;overflow-x:auto;line-height:normal;font-family:Menlo,'DejaVu Sans Mono',consolas,'Courier New',monospace\"><span style=\"font-weight: bold\">Model: \"sequential\"</span>\n",
       "</pre>\n"
      ],
      "text/plain": [
       "\u001b[1mModel: \"sequential\"\u001b[0m\n"
      ]
     },
     "metadata": {},
     "output_type": "display_data"
    },
    {
     "data": {
      "text/html": [
       "<pre style=\"white-space:pre;overflow-x:auto;line-height:normal;font-family:Menlo,'DejaVu Sans Mono',consolas,'Courier New',monospace\">┏━━━━━━━━━━━━━━━━━━━━━━━━━━━━━━━━━━━━━━┳━━━━━━━━━━━━━━━━━━━━━━━━━━━━━┳━━━━━━━━━━━━━━━━━┓\n",
       "┃<span style=\"font-weight: bold\"> Layer (type)                         </span>┃<span style=\"font-weight: bold\"> Output Shape                </span>┃<span style=\"font-weight: bold\">         Param # </span>┃\n",
       "┡━━━━━━━━━━━━━━━━━━━━━━━━━━━━━━━━━━━━━━╇━━━━━━━━━━━━━━━━━━━━━━━━━━━━━╇━━━━━━━━━━━━━━━━━┩\n",
       "│ dense (<span style=\"color: #0087ff; text-decoration-color: #0087ff\">Dense</span>)                        │ (<span style=\"color: #00d7ff; text-decoration-color: #00d7ff\">None</span>, <span style=\"color: #00af00; text-decoration-color: #00af00\">10</span>)                  │              <span style=\"color: #00af00; text-decoration-color: #00af00\">80</span> │\n",
       "├──────────────────────────────────────┼─────────────────────────────┼─────────────────┤\n",
       "│ dense_1 (<span style=\"color: #0087ff; text-decoration-color: #0087ff\">Dense</span>)                      │ (<span style=\"color: #00d7ff; text-decoration-color: #00d7ff\">None</span>, <span style=\"color: #00af00; text-decoration-color: #00af00\">10</span>)                  │             <span style=\"color: #00af00; text-decoration-color: #00af00\">110</span> │\n",
       "├──────────────────────────────────────┼─────────────────────────────┼─────────────────┤\n",
       "│ dense_2 (<span style=\"color: #0087ff; text-decoration-color: #0087ff\">Dense</span>)                      │ (<span style=\"color: #00d7ff; text-decoration-color: #00d7ff\">None</span>, <span style=\"color: #00af00; text-decoration-color: #00af00\">1</span>)                   │              <span style=\"color: #00af00; text-decoration-color: #00af00\">11</span> │\n",
       "└──────────────────────────────────────┴─────────────────────────────┴─────────────────┘\n",
       "</pre>\n"
      ],
      "text/plain": [
       "┏━━━━━━━━━━━━━━━━━━━━━━━━━━━━━━━━━━━━━━┳━━━━━━━━━━━━━━━━━━━━━━━━━━━━━┳━━━━━━━━━━━━━━━━━┓\n",
       "┃\u001b[1m \u001b[0m\u001b[1mLayer (type)                        \u001b[0m\u001b[1m \u001b[0m┃\u001b[1m \u001b[0m\u001b[1mOutput Shape               \u001b[0m\u001b[1m \u001b[0m┃\u001b[1m \u001b[0m\u001b[1m        Param #\u001b[0m\u001b[1m \u001b[0m┃\n",
       "┡━━━━━━━━━━━━━━━━━━━━━━━━━━━━━━━━━━━━━━╇━━━━━━━━━━━━━━━━━━━━━━━━━━━━━╇━━━━━━━━━━━━━━━━━┩\n",
       "│ dense (\u001b[38;5;33mDense\u001b[0m)                        │ (\u001b[38;5;45mNone\u001b[0m, \u001b[38;5;34m10\u001b[0m)                  │              \u001b[38;5;34m80\u001b[0m │\n",
       "├──────────────────────────────────────┼─────────────────────────────┼─────────────────┤\n",
       "│ dense_1 (\u001b[38;5;33mDense\u001b[0m)                      │ (\u001b[38;5;45mNone\u001b[0m, \u001b[38;5;34m10\u001b[0m)                  │             \u001b[38;5;34m110\u001b[0m │\n",
       "├──────────────────────────────────────┼─────────────────────────────┼─────────────────┤\n",
       "│ dense_2 (\u001b[38;5;33mDense\u001b[0m)                      │ (\u001b[38;5;45mNone\u001b[0m, \u001b[38;5;34m1\u001b[0m)                   │              \u001b[38;5;34m11\u001b[0m │\n",
       "└──────────────────────────────────────┴─────────────────────────────┴─────────────────┘\n"
      ]
     },
     "metadata": {},
     "output_type": "display_data"
    },
    {
     "data": {
      "text/html": [
       "<pre style=\"white-space:pre;overflow-x:auto;line-height:normal;font-family:Menlo,'DejaVu Sans Mono',consolas,'Courier New',monospace\"><span style=\"font-weight: bold\"> Total params: </span><span style=\"color: #00af00; text-decoration-color: #00af00\">201</span> (804.00 B)\n",
       "</pre>\n"
      ],
      "text/plain": [
       "\u001b[1m Total params: \u001b[0m\u001b[38;5;34m201\u001b[0m (804.00 B)\n"
      ]
     },
     "metadata": {},
     "output_type": "display_data"
    },
    {
     "data": {
      "text/html": [
       "<pre style=\"white-space:pre;overflow-x:auto;line-height:normal;font-family:Menlo,'DejaVu Sans Mono',consolas,'Courier New',monospace\"><span style=\"font-weight: bold\"> Trainable params: </span><span style=\"color: #00af00; text-decoration-color: #00af00\">201</span> (804.00 B)\n",
       "</pre>\n"
      ],
      "text/plain": [
       "\u001b[1m Trainable params: \u001b[0m\u001b[38;5;34m201\u001b[0m (804.00 B)\n"
      ]
     },
     "metadata": {},
     "output_type": "display_data"
    },
    {
     "data": {
      "text/html": [
       "<pre style=\"white-space:pre;overflow-x:auto;line-height:normal;font-family:Menlo,'DejaVu Sans Mono',consolas,'Courier New',monospace\"><span style=\"font-weight: bold\"> Non-trainable params: </span><span style=\"color: #00af00; text-decoration-color: #00af00\">0</span> (0.00 B)\n",
       "</pre>\n"
      ],
      "text/plain": [
       "\u001b[1m Non-trainable params: \u001b[0m\u001b[38;5;34m0\u001b[0m (0.00 B)\n"
      ]
     },
     "metadata": {},
     "output_type": "display_data"
    }
   ],
   "source": [
    "model.summary()"
   ]
  },
  {
   "cell_type": "code",
   "execution_count": 23,
   "id": "b88c7b22",
   "metadata": {
    "execution": {
     "iopub.execute_input": "2025-01-01T11:45:33.490817Z",
     "iopub.status.busy": "2025-01-01T11:45:33.490420Z",
     "iopub.status.idle": "2025-01-01T11:45:33.504177Z",
     "shell.execute_reply": "2025-01-01T11:45:33.503289Z"
    },
    "papermill": {
     "duration": 0.025932,
     "end_time": "2025-01-01T11:45:33.506157",
     "exception": false,
     "start_time": "2025-01-01T11:45:33.480225",
     "status": "completed"
    },
    "tags": []
   },
   "outputs": [],
   "source": [
    "#backward propogation\n",
    "model.compile(loss= 'mean_squared_error', optimizer= 'Adam', metrics=['r2_score'])"
   ]
  },
  {
   "cell_type": "markdown",
   "id": "edbc1525",
   "metadata": {
    "papermill": {
     "duration": 0.008791,
     "end_time": "2025-01-01T11:45:33.524332",
     "exception": false,
     "start_time": "2025-01-01T11:45:33.515541",
     "status": "completed"
    },
    "tags": []
   },
   "source": [
    "## The error between the y predicted and the ground truth will be calculated by the loss.\n",
    "## In order to reduce the loss optimizer will find the values of weights and biases.\n",
    "## Metrics will evaluate the performance of the model on unseen data."
   ]
  },
  {
   "cell_type": "code",
   "execution_count": 24,
   "id": "1acabb53",
   "metadata": {
    "execution": {
     "iopub.execute_input": "2025-01-01T11:45:33.543843Z",
     "iopub.status.busy": "2025-01-01T11:45:33.543463Z",
     "iopub.status.idle": "2025-01-01T11:45:43.302929Z",
     "shell.execute_reply": "2025-01-01T11:45:43.301937Z"
    },
    "papermill": {
     "duration": 9.771279,
     "end_time": "2025-01-01T11:45:43.304738",
     "exception": false,
     "start_time": "2025-01-01T11:45:33.533459",
     "status": "completed"
    },
    "tags": []
   },
   "outputs": [
    {
     "name": "stdout",
     "output_type": "stream",
     "text": [
      "Epoch 1/100\n",
      "\u001b[1m13/13\u001b[0m \u001b[32m━━━━━━━━━━━━━━━━━━━━\u001b[0m\u001b[37m\u001b[0m \u001b[1m2s\u001b[0m 20ms/step - loss: 1.7080 - r2_score: -81.3425 - val_loss: 1.1514 - val_r2_score: -64.9253\n",
      "Epoch 2/100\n",
      "\u001b[1m13/13\u001b[0m \u001b[32m━━━━━━━━━━━━━━━━━━━━\u001b[0m\u001b[37m\u001b[0m \u001b[1m0s\u001b[0m 4ms/step - loss: 1.0840 - r2_score: -47.9481 - val_loss: 0.7316 - val_r2_score: -40.8896\n",
      "Epoch 3/100\n",
      "\u001b[1m13/13\u001b[0m \u001b[32m━━━━━━━━━━━━━━━━━━━━\u001b[0m\u001b[37m\u001b[0m \u001b[1m0s\u001b[0m 4ms/step - loss: 0.6580 - r2_score: -31.4170 - val_loss: 0.4391 - val_r2_score: -24.1419\n",
      "Epoch 4/100\n",
      "\u001b[1m13/13\u001b[0m \u001b[32m━━━━━━━━━━━━━━━━━━━━\u001b[0m\u001b[37m\u001b[0m \u001b[1m0s\u001b[0m 4ms/step - loss: 0.3781 - r2_score: -16.6598 - val_loss: 0.2605 - val_r2_score: -13.9184\n",
      "Epoch 5/100\n",
      "\u001b[1m13/13\u001b[0m \u001b[32m━━━━━━━━━━━━━━━━━━━━\u001b[0m\u001b[37m\u001b[0m \u001b[1m0s\u001b[0m 4ms/step - loss: 0.2298 - r2_score: -10.3037 - val_loss: 0.1743 - val_r2_score: -8.9815\n",
      "Epoch 6/100\n",
      "\u001b[1m13/13\u001b[0m \u001b[32m━━━━━━━━━━━━━━━━━━━━\u001b[0m\u001b[37m\u001b[0m \u001b[1m0s\u001b[0m 4ms/step - loss: 0.1408 - r2_score: -5.9195 - val_loss: 0.1408 - val_r2_score: -7.0632\n",
      "Epoch 7/100\n",
      "\u001b[1m13/13\u001b[0m \u001b[32m━━━━━━━━━━━━━━━━━━━━\u001b[0m\u001b[37m\u001b[0m \u001b[1m0s\u001b[0m 4ms/step - loss: 0.1218 - r2_score: -5.0514 - val_loss: 0.1211 - val_r2_score: -5.9324\n",
      "Epoch 8/100\n",
      "\u001b[1m13/13\u001b[0m \u001b[32m━━━━━━━━━━━━━━━━━━━━\u001b[0m\u001b[37m\u001b[0m \u001b[1m0s\u001b[0m 4ms/step - loss: 0.1183 - r2_score: -5.1169 - val_loss: 0.1019 - val_r2_score: -4.8339\n",
      "Epoch 9/100\n",
      "\u001b[1m13/13\u001b[0m \u001b[32m━━━━━━━━━━━━━━━━━━━━\u001b[0m\u001b[37m\u001b[0m \u001b[1m0s\u001b[0m 4ms/step - loss: 0.0935 - r2_score: -3.5661 - val_loss: 0.0891 - val_r2_score: -4.1024\n",
      "Epoch 10/100\n",
      "\u001b[1m13/13\u001b[0m \u001b[32m━━━━━━━━━━━━━━━━━━━━\u001b[0m\u001b[37m\u001b[0m \u001b[1m0s\u001b[0m 4ms/step - loss: 0.0878 - r2_score: -3.4058 - val_loss: 0.0751 - val_r2_score: -3.2980\n",
      "Epoch 11/100\n",
      "\u001b[1m13/13\u001b[0m \u001b[32m━━━━━━━━━━━━━━━━━━━━\u001b[0m\u001b[37m\u001b[0m \u001b[1m0s\u001b[0m 4ms/step - loss: 0.0675 - r2_score: -2.3101 - val_loss: 0.0585 - val_r2_score: -2.3478\n",
      "Epoch 12/100\n",
      "\u001b[1m13/13\u001b[0m \u001b[32m━━━━━━━━━━━━━━━━━━━━\u001b[0m\u001b[37m\u001b[0m \u001b[1m0s\u001b[0m 4ms/step - loss: 0.0546 - r2_score: -1.7592 - val_loss: 0.0447 - val_r2_score: -1.5566\n",
      "Epoch 13/100\n",
      "\u001b[1m13/13\u001b[0m \u001b[32m━━━━━━━━━━━━━━━━━━━━\u001b[0m\u001b[37m\u001b[0m \u001b[1m0s\u001b[0m 4ms/step - loss: 0.0405 - r2_score: -1.0159 - val_loss: 0.0359 - val_r2_score: -1.0538\n",
      "Epoch 14/100\n",
      "\u001b[1m13/13\u001b[0m \u001b[32m━━━━━━━━━━━━━━━━━━━━\u001b[0m\u001b[37m\u001b[0m \u001b[1m0s\u001b[0m 4ms/step - loss: 0.0328 - r2_score: -0.5758 - val_loss: 0.0283 - val_r2_score: -0.6184\n",
      "Epoch 15/100\n",
      "\u001b[1m13/13\u001b[0m \u001b[32m━━━━━━━━━━━━━━━━━━━━\u001b[0m\u001b[37m\u001b[0m \u001b[1m0s\u001b[0m 4ms/step - loss: 0.0237 - r2_score: -0.0961 - val_loss: 0.0230 - val_r2_score: -0.3169\n",
      "Epoch 16/100\n",
      "\u001b[1m13/13\u001b[0m \u001b[32m━━━━━━━━━━━━━━━━━━━━\u001b[0m\u001b[37m\u001b[0m \u001b[1m0s\u001b[0m 6ms/step - loss: 0.0217 - r2_score: -0.0564 - val_loss: 0.0185 - val_r2_score: -0.0584\n",
      "Epoch 17/100\n",
      "\u001b[1m13/13\u001b[0m \u001b[32m━━━━━━━━━━━━━━━━━━━━\u001b[0m\u001b[37m\u001b[0m \u001b[1m0s\u001b[0m 4ms/step - loss: 0.0188 - r2_score: 0.0975 - val_loss: 0.0156 - val_r2_score: 0.1069\n",
      "Epoch 18/100\n",
      "\u001b[1m13/13\u001b[0m \u001b[32m━━━━━━━━━━━━━━━━━━━━\u001b[0m\u001b[37m\u001b[0m \u001b[1m0s\u001b[0m 4ms/step - loss: 0.0151 - r2_score: 0.2282 - val_loss: 0.0131 - val_r2_score: 0.2506\n",
      "Epoch 19/100\n",
      "\u001b[1m13/13\u001b[0m \u001b[32m━━━━━━━━━━━━━━━━━━━━\u001b[0m\u001b[37m\u001b[0m \u001b[1m0s\u001b[0m 4ms/step - loss: 0.0118 - r2_score: 0.4345 - val_loss: 0.0115 - val_r2_score: 0.3407\n",
      "Epoch 20/100\n",
      "\u001b[1m13/13\u001b[0m \u001b[32m━━━━━━━━━━━━━━━━━━━━\u001b[0m\u001b[37m\u001b[0m \u001b[1m0s\u001b[0m 4ms/step - loss: 0.0113 - r2_score: 0.4863 - val_loss: 0.0102 - val_r2_score: 0.4174\n",
      "Epoch 21/100\n",
      "\u001b[1m13/13\u001b[0m \u001b[32m━━━━━━━━━━━━━━━━━━━━\u001b[0m\u001b[37m\u001b[0m \u001b[1m0s\u001b[0m 4ms/step - loss: 0.0089 - r2_score: 0.5656 - val_loss: 0.0092 - val_r2_score: 0.4754\n",
      "Epoch 22/100\n",
      "\u001b[1m13/13\u001b[0m \u001b[32m━━━━━━━━━━━━━━━━━━━━\u001b[0m\u001b[37m\u001b[0m \u001b[1m0s\u001b[0m 4ms/step - loss: 0.0085 - r2_score: 0.5807 - val_loss: 0.0084 - val_r2_score: 0.5204\n",
      "Epoch 23/100\n",
      "\u001b[1m13/13\u001b[0m \u001b[32m━━━━━━━━━━━━━━━━━━━━\u001b[0m\u001b[37m\u001b[0m \u001b[1m0s\u001b[0m 4ms/step - loss: 0.0079 - r2_score: 0.6128 - val_loss: 0.0078 - val_r2_score: 0.5515\n",
      "Epoch 24/100\n",
      "\u001b[1m13/13\u001b[0m \u001b[32m━━━━━━━━━━━━━━━━━━━━\u001b[0m\u001b[37m\u001b[0m \u001b[1m0s\u001b[0m 4ms/step - loss: 0.0070 - r2_score: 0.6286 - val_loss: 0.0074 - val_r2_score: 0.5748\n",
      "Epoch 25/100\n",
      "\u001b[1m13/13\u001b[0m \u001b[32m━━━━━━━━━━━━━━━━━━━━\u001b[0m\u001b[37m\u001b[0m \u001b[1m0s\u001b[0m 4ms/step - loss: 0.0071 - r2_score: 0.6623 - val_loss: 0.0071 - val_r2_score: 0.5936\n",
      "Epoch 26/100\n",
      "\u001b[1m13/13\u001b[0m \u001b[32m━━━━━━━━━━━━━━━━━━━━\u001b[0m\u001b[37m\u001b[0m \u001b[1m0s\u001b[0m 4ms/step - loss: 0.0069 - r2_score: 0.6650 - val_loss: 0.0068 - val_r2_score: 0.6089\n",
      "Epoch 27/100\n",
      "\u001b[1m13/13\u001b[0m \u001b[32m━━━━━━━━━━━━━━━━━━━━\u001b[0m\u001b[37m\u001b[0m \u001b[1m0s\u001b[0m 4ms/step - loss: 0.0063 - r2_score: 0.7061 - val_loss: 0.0066 - val_r2_score: 0.6195\n",
      "Epoch 28/100\n",
      "\u001b[1m13/13\u001b[0m \u001b[32m━━━━━━━━━━━━━━━━━━━━\u001b[0m\u001b[37m\u001b[0m \u001b[1m0s\u001b[0m 4ms/step - loss: 0.0067 - r2_score: 0.6594 - val_loss: 0.0065 - val_r2_score: 0.6306\n",
      "Epoch 29/100\n",
      "\u001b[1m13/13\u001b[0m \u001b[32m━━━━━━━━━━━━━━━━━━━━\u001b[0m\u001b[37m\u001b[0m \u001b[1m0s\u001b[0m 4ms/step - loss: 0.0066 - r2_score: 0.6652 - val_loss: 0.0063 - val_r2_score: 0.6368\n",
      "Epoch 30/100\n",
      "\u001b[1m13/13\u001b[0m \u001b[32m━━━━━━━━━━━━━━━━━━━━\u001b[0m\u001b[37m\u001b[0m \u001b[1m0s\u001b[0m 4ms/step - loss: 0.0067 - r2_score: 0.6970 - val_loss: 0.0062 - val_r2_score: 0.6449\n",
      "Epoch 31/100\n",
      "\u001b[1m13/13\u001b[0m \u001b[32m━━━━━━━━━━━━━━━━━━━━\u001b[0m\u001b[37m\u001b[0m \u001b[1m0s\u001b[0m 4ms/step - loss: 0.0064 - r2_score: 0.6848 - val_loss: 0.0061 - val_r2_score: 0.6519\n",
      "Epoch 32/100\n",
      "\u001b[1m13/13\u001b[0m \u001b[32m━━━━━━━━━━━━━━━━━━━━\u001b[0m\u001b[37m\u001b[0m \u001b[1m0s\u001b[0m 4ms/step - loss: 0.0065 - r2_score: 0.7024 - val_loss: 0.0060 - val_r2_score: 0.6570\n",
      "Epoch 33/100\n",
      "\u001b[1m13/13\u001b[0m \u001b[32m━━━━━━━━━━━━━━━━━━━━\u001b[0m\u001b[37m\u001b[0m \u001b[1m0s\u001b[0m 4ms/step - loss: 0.0059 - r2_score: 0.6982 - val_loss: 0.0059 - val_r2_score: 0.6611\n",
      "Epoch 34/100\n",
      "\u001b[1m13/13\u001b[0m \u001b[32m━━━━━━━━━━━━━━━━━━━━\u001b[0m\u001b[37m\u001b[0m \u001b[1m0s\u001b[0m 4ms/step - loss: 0.0055 - r2_score: 0.7222 - val_loss: 0.0058 - val_r2_score: 0.6661\n",
      "Epoch 35/100\n",
      "\u001b[1m13/13\u001b[0m \u001b[32m━━━━━━━━━━━━━━━━━━━━\u001b[0m\u001b[37m\u001b[0m \u001b[1m0s\u001b[0m 4ms/step - loss: 0.0061 - r2_score: 0.7131 - val_loss: 0.0058 - val_r2_score: 0.6692\n",
      "Epoch 36/100\n",
      "\u001b[1m13/13\u001b[0m \u001b[32m━━━━━━━━━━━━━━━━━━━━\u001b[0m\u001b[37m\u001b[0m \u001b[1m0s\u001b[0m 4ms/step - loss: 0.0053 - r2_score: 0.7381 - val_loss: 0.0057 - val_r2_score: 0.6731\n",
      "Epoch 37/100\n",
      "\u001b[1m13/13\u001b[0m \u001b[32m━━━━━━━━━━━━━━━━━━━━\u001b[0m\u001b[37m\u001b[0m \u001b[1m0s\u001b[0m 4ms/step - loss: 0.0049 - r2_score: 0.7548 - val_loss: 0.0057 - val_r2_score: 0.6755\n",
      "Epoch 38/100\n",
      "\u001b[1m13/13\u001b[0m \u001b[32m━━━━━━━━━━━━━━━━━━━━\u001b[0m\u001b[37m\u001b[0m \u001b[1m0s\u001b[0m 4ms/step - loss: 0.0050 - r2_score: 0.7519 - val_loss: 0.0056 - val_r2_score: 0.6781\n",
      "Epoch 39/100\n",
      "\u001b[1m13/13\u001b[0m \u001b[32m━━━━━━━━━━━━━━━━━━━━\u001b[0m\u001b[37m\u001b[0m \u001b[1m0s\u001b[0m 4ms/step - loss: 0.0057 - r2_score: 0.7302 - val_loss: 0.0056 - val_r2_score: 0.6816\n",
      "Epoch 40/100\n",
      "\u001b[1m13/13\u001b[0m \u001b[32m━━━━━━━━━━━━━━━━━━━━\u001b[0m\u001b[37m\u001b[0m \u001b[1m0s\u001b[0m 4ms/step - loss: 0.0057 - r2_score: 0.7275 - val_loss: 0.0055 - val_r2_score: 0.6838\n",
      "Epoch 41/100\n",
      "\u001b[1m13/13\u001b[0m \u001b[32m━━━━━━━━━━━━━━━━━━━━\u001b[0m\u001b[37m\u001b[0m \u001b[1m0s\u001b[0m 4ms/step - loss: 0.0056 - r2_score: 0.6994 - val_loss: 0.0055 - val_r2_score: 0.6862\n",
      "Epoch 42/100\n",
      "\u001b[1m13/13\u001b[0m \u001b[32m━━━━━━━━━━━━━━━━━━━━\u001b[0m\u001b[37m\u001b[0m \u001b[1m0s\u001b[0m 4ms/step - loss: 0.0052 - r2_score: 0.7528 - val_loss: 0.0055 - val_r2_score: 0.6868\n",
      "Epoch 43/100\n",
      "\u001b[1m13/13\u001b[0m \u001b[32m━━━━━━━━━━━━━━━━━━━━\u001b[0m\u001b[37m\u001b[0m \u001b[1m0s\u001b[0m 4ms/step - loss: 0.0050 - r2_score: 0.7567 - val_loss: 0.0054 - val_r2_score: 0.6894\n",
      "Epoch 44/100\n",
      "\u001b[1m13/13\u001b[0m \u001b[32m━━━━━━━━━━━━━━━━━━━━\u001b[0m\u001b[37m\u001b[0m \u001b[1m0s\u001b[0m 4ms/step - loss: 0.0054 - r2_score: 0.7515 - val_loss: 0.0054 - val_r2_score: 0.6903\n",
      "Epoch 45/100\n",
      "\u001b[1m13/13\u001b[0m \u001b[32m━━━━━━━━━━━━━━━━━━━━\u001b[0m\u001b[37m\u001b[0m \u001b[1m0s\u001b[0m 4ms/step - loss: 0.0050 - r2_score: 0.7571 - val_loss: 0.0053 - val_r2_score: 0.6947\n",
      "Epoch 46/100\n",
      "\u001b[1m13/13\u001b[0m \u001b[32m━━━━━━━━━━━━━━━━━━━━\u001b[0m\u001b[37m\u001b[0m \u001b[1m0s\u001b[0m 4ms/step - loss: 0.0048 - r2_score: 0.7496 - val_loss: 0.0053 - val_r2_score: 0.6952\n",
      "Epoch 47/100\n",
      "\u001b[1m13/13\u001b[0m \u001b[32m━━━━━━━━━━━━━━━━━━━━\u001b[0m\u001b[37m\u001b[0m \u001b[1m0s\u001b[0m 4ms/step - loss: 0.0051 - r2_score: 0.7512 - val_loss: 0.0053 - val_r2_score: 0.6988\n",
      "Epoch 48/100\n",
      "\u001b[1m13/13\u001b[0m \u001b[32m━━━━━━━━━━━━━━━━━━━━\u001b[0m\u001b[37m\u001b[0m \u001b[1m0s\u001b[0m 4ms/step - loss: 0.0043 - r2_score: 0.7834 - val_loss: 0.0053 - val_r2_score: 0.6976\n",
      "Epoch 49/100\n",
      "\u001b[1m13/13\u001b[0m \u001b[32m━━━━━━━━━━━━━━━━━━━━\u001b[0m\u001b[37m\u001b[0m \u001b[1m0s\u001b[0m 4ms/step - loss: 0.0046 - r2_score: 0.7691 - val_loss: 0.0052 - val_r2_score: 0.7018\n",
      "Epoch 50/100\n",
      "\u001b[1m13/13\u001b[0m \u001b[32m━━━━━━━━━━━━━━━━━━━━\u001b[0m\u001b[37m\u001b[0m \u001b[1m0s\u001b[0m 4ms/step - loss: 0.0048 - r2_score: 0.7680 - val_loss: 0.0053 - val_r2_score: 0.6968\n",
      "Epoch 51/100\n",
      "\u001b[1m13/13\u001b[0m \u001b[32m━━━━━━━━━━━━━━━━━━━━\u001b[0m\u001b[37m\u001b[0m \u001b[1m0s\u001b[0m 4ms/step - loss: 0.0048 - r2_score: 0.7375 - val_loss: 0.0052 - val_r2_score: 0.7034\n",
      "Epoch 52/100\n",
      "\u001b[1m13/13\u001b[0m \u001b[32m━━━━━━━━━━━━━━━━━━━━\u001b[0m\u001b[37m\u001b[0m \u001b[1m0s\u001b[0m 4ms/step - loss: 0.0057 - r2_score: 0.7316 - val_loss: 0.0051 - val_r2_score: 0.7052\n",
      "Epoch 53/100\n",
      "\u001b[1m13/13\u001b[0m \u001b[32m━━━━━━━━━━━━━━━━━━━━\u001b[0m\u001b[37m\u001b[0m \u001b[1m0s\u001b[0m 4ms/step - loss: 0.0048 - r2_score: 0.7458 - val_loss: 0.0052 - val_r2_score: 0.7045\n",
      "Epoch 54/100\n",
      "\u001b[1m13/13\u001b[0m \u001b[32m━━━━━━━━━━━━━━━━━━━━\u001b[0m\u001b[37m\u001b[0m \u001b[1m0s\u001b[0m 4ms/step - loss: 0.0046 - r2_score: 0.7456 - val_loss: 0.0051 - val_r2_score: 0.7053\n",
      "Epoch 55/100\n",
      "\u001b[1m13/13\u001b[0m \u001b[32m━━━━━━━━━━━━━━━━━━━━\u001b[0m\u001b[37m\u001b[0m \u001b[1m0s\u001b[0m 4ms/step - loss: 0.0046 - r2_score: 0.7599 - val_loss: 0.0051 - val_r2_score: 0.7080\n",
      "Epoch 56/100\n",
      "\u001b[1m13/13\u001b[0m \u001b[32m━━━━━━━━━━━━━━━━━━━━\u001b[0m\u001b[37m\u001b[0m \u001b[1m0s\u001b[0m 4ms/step - loss: 0.0044 - r2_score: 0.7928 - val_loss: 0.0051 - val_r2_score: 0.7081\n",
      "Epoch 57/100\n",
      "\u001b[1m13/13\u001b[0m \u001b[32m━━━━━━━━━━━━━━━━━━━━\u001b[0m\u001b[37m\u001b[0m \u001b[1m0s\u001b[0m 4ms/step - loss: 0.0047 - r2_score: 0.7476 - val_loss: 0.0051 - val_r2_score: 0.7082\n",
      "Epoch 58/100\n",
      "\u001b[1m13/13\u001b[0m \u001b[32m━━━━━━━━━━━━━━━━━━━━\u001b[0m\u001b[37m\u001b[0m \u001b[1m0s\u001b[0m 4ms/step - loss: 0.0046 - r2_score: 0.7778 - val_loss: 0.0051 - val_r2_score: 0.7092\n",
      "Epoch 59/100\n",
      "\u001b[1m13/13\u001b[0m \u001b[32m━━━━━━━━━━━━━━━━━━━━\u001b[0m\u001b[37m\u001b[0m \u001b[1m0s\u001b[0m 4ms/step - loss: 0.0050 - r2_score: 0.7793 - val_loss: 0.0051 - val_r2_score: 0.7103\n",
      "Epoch 60/100\n",
      "\u001b[1m13/13\u001b[0m \u001b[32m━━━━━━━━━━━━━━━━━━━━\u001b[0m\u001b[37m\u001b[0m \u001b[1m0s\u001b[0m 4ms/step - loss: 0.0042 - r2_score: 0.7874 - val_loss: 0.0051 - val_r2_score: 0.7097\n",
      "Epoch 61/100\n",
      "\u001b[1m13/13\u001b[0m \u001b[32m━━━━━━━━━━━━━━━━━━━━\u001b[0m\u001b[37m\u001b[0m \u001b[1m0s\u001b[0m 4ms/step - loss: 0.0049 - r2_score: 0.7558 - val_loss: 0.0050 - val_r2_score: 0.7121\n",
      "Epoch 62/100\n",
      "\u001b[1m13/13\u001b[0m \u001b[32m━━━━━━━━━━━━━━━━━━━━\u001b[0m\u001b[37m\u001b[0m \u001b[1m0s\u001b[0m 4ms/step - loss: 0.0045 - r2_score: 0.7962 - val_loss: 0.0051 - val_r2_score: 0.7104\n",
      "Epoch 63/100\n",
      "\u001b[1m13/13\u001b[0m \u001b[32m━━━━━━━━━━━━━━━━━━━━\u001b[0m\u001b[37m\u001b[0m \u001b[1m0s\u001b[0m 4ms/step - loss: 0.0054 - r2_score: 0.7357 - val_loss: 0.0050 - val_r2_score: 0.7112\n",
      "Epoch 64/100\n",
      "\u001b[1m13/13\u001b[0m \u001b[32m━━━━━━━━━━━━━━━━━━━━\u001b[0m\u001b[37m\u001b[0m \u001b[1m0s\u001b[0m 4ms/step - loss: 0.0050 - r2_score: 0.7330 - val_loss: 0.0050 - val_r2_score: 0.7121\n",
      "Epoch 65/100\n",
      "\u001b[1m13/13\u001b[0m \u001b[32m━━━━━━━━━━━━━━━━━━━━\u001b[0m\u001b[37m\u001b[0m \u001b[1m0s\u001b[0m 4ms/step - loss: 0.0043 - r2_score: 0.7903 - val_loss: 0.0050 - val_r2_score: 0.7129\n",
      "Epoch 66/100\n",
      "\u001b[1m13/13\u001b[0m \u001b[32m━━━━━━━━━━━━━━━━━━━━\u001b[0m\u001b[37m\u001b[0m \u001b[1m0s\u001b[0m 4ms/step - loss: 0.0044 - r2_score: 0.7667 - val_loss: 0.0050 - val_r2_score: 0.7156\n",
      "Epoch 67/100\n",
      "\u001b[1m13/13\u001b[0m \u001b[32m━━━━━━━━━━━━━━━━━━━━\u001b[0m\u001b[37m\u001b[0m \u001b[1m0s\u001b[0m 4ms/step - loss: 0.0041 - r2_score: 0.7953 - val_loss: 0.0050 - val_r2_score: 0.7127\n",
      "Epoch 68/100\n",
      "\u001b[1m13/13\u001b[0m \u001b[32m━━━━━━━━━━━━━━━━━━━━\u001b[0m\u001b[37m\u001b[0m \u001b[1m0s\u001b[0m 4ms/step - loss: 0.0050 - r2_score: 0.7694 - val_loss: 0.0050 - val_r2_score: 0.7151\n",
      "Epoch 69/100\n",
      "\u001b[1m13/13\u001b[0m \u001b[32m━━━━━━━━━━━━━━━━━━━━\u001b[0m\u001b[37m\u001b[0m \u001b[1m0s\u001b[0m 4ms/step - loss: 0.0043 - r2_score: 0.7865 - val_loss: 0.0050 - val_r2_score: 0.7112\n",
      "Epoch 70/100\n",
      "\u001b[1m13/13\u001b[0m \u001b[32m━━━━━━━━━━━━━━━━━━━━\u001b[0m\u001b[37m\u001b[0m \u001b[1m0s\u001b[0m 4ms/step - loss: 0.0043 - r2_score: 0.7725 - val_loss: 0.0050 - val_r2_score: 0.7146\n",
      "Epoch 71/100\n",
      "\u001b[1m13/13\u001b[0m \u001b[32m━━━━━━━━━━━━━━━━━━━━\u001b[0m\u001b[37m\u001b[0m \u001b[1m0s\u001b[0m 4ms/step - loss: 0.0040 - r2_score: 0.7984 - val_loss: 0.0050 - val_r2_score: 0.7118\n",
      "Epoch 72/100\n",
      "\u001b[1m13/13\u001b[0m \u001b[32m━━━━━━━━━━━━━━━━━━━━\u001b[0m\u001b[37m\u001b[0m \u001b[1m0s\u001b[0m 4ms/step - loss: 0.0046 - r2_score: 0.7671 - val_loss: 0.0050 - val_r2_score: 0.7154\n",
      "Epoch 73/100\n",
      "\u001b[1m13/13\u001b[0m \u001b[32m━━━━━━━━━━━━━━━━━━━━\u001b[0m\u001b[37m\u001b[0m \u001b[1m0s\u001b[0m 4ms/step - loss: 0.0043 - r2_score: 0.7841 - val_loss: 0.0050 - val_r2_score: 0.7110\n",
      "Epoch 74/100\n",
      "\u001b[1m13/13\u001b[0m \u001b[32m━━━━━━━━━━━━━━━━━━━━\u001b[0m\u001b[37m\u001b[0m \u001b[1m0s\u001b[0m 4ms/step - loss: 0.0043 - r2_score: 0.7834 - val_loss: 0.0049 - val_r2_score: 0.7167\n",
      "Epoch 75/100\n",
      "\u001b[1m13/13\u001b[0m \u001b[32m━━━━━━━━━━━━━━━━━━━━\u001b[0m\u001b[37m\u001b[0m \u001b[1m0s\u001b[0m 4ms/step - loss: 0.0043 - r2_score: 0.7922 - val_loss: 0.0050 - val_r2_score: 0.7163\n",
      "Epoch 76/100\n",
      "\u001b[1m13/13\u001b[0m \u001b[32m━━━━━━━━━━━━━━━━━━━━\u001b[0m\u001b[37m\u001b[0m \u001b[1m0s\u001b[0m 4ms/step - loss: 0.0047 - r2_score: 0.7856 - val_loss: 0.0049 - val_r2_score: 0.7170\n",
      "Epoch 77/100\n",
      "\u001b[1m13/13\u001b[0m \u001b[32m━━━━━━━━━━━━━━━━━━━━\u001b[0m\u001b[37m\u001b[0m \u001b[1m0s\u001b[0m 4ms/step - loss: 0.0044 - r2_score: 0.7691 - val_loss: 0.0050 - val_r2_score: 0.7160\n",
      "Epoch 78/100\n",
      "\u001b[1m13/13\u001b[0m \u001b[32m━━━━━━━━━━━━━━━━━━━━\u001b[0m\u001b[37m\u001b[0m \u001b[1m0s\u001b[0m 4ms/step - loss: 0.0042 - r2_score: 0.7885 - val_loss: 0.0049 - val_r2_score: 0.7180\n",
      "Epoch 79/100\n",
      "\u001b[1m13/13\u001b[0m \u001b[32m━━━━━━━━━━━━━━━━━━━━\u001b[0m\u001b[37m\u001b[0m \u001b[1m0s\u001b[0m 4ms/step - loss: 0.0046 - r2_score: 0.7748 - val_loss: 0.0049 - val_r2_score: 0.7184\n",
      "Epoch 80/100\n",
      "\u001b[1m13/13\u001b[0m \u001b[32m━━━━━━━━━━━━━━━━━━━━\u001b[0m\u001b[37m\u001b[0m \u001b[1m0s\u001b[0m 4ms/step - loss: 0.0046 - r2_score: 0.7563 - val_loss: 0.0049 - val_r2_score: 0.7167\n",
      "Epoch 81/100\n",
      "\u001b[1m13/13\u001b[0m \u001b[32m━━━━━━━━━━━━━━━━━━━━\u001b[0m\u001b[37m\u001b[0m \u001b[1m0s\u001b[0m 4ms/step - loss: 0.0045 - r2_score: 0.7815 - val_loss: 0.0050 - val_r2_score: 0.7130\n",
      "Epoch 82/100\n",
      "\u001b[1m13/13\u001b[0m \u001b[32m━━━━━━━━━━━━━━━━━━━━\u001b[0m\u001b[37m\u001b[0m \u001b[1m0s\u001b[0m 4ms/step - loss: 0.0039 - r2_score: 0.7920 - val_loss: 0.0049 - val_r2_score: 0.7181\n",
      "Epoch 83/100\n",
      "\u001b[1m13/13\u001b[0m \u001b[32m━━━━━━━━━━━━━━━━━━━━\u001b[0m\u001b[37m\u001b[0m \u001b[1m0s\u001b[0m 4ms/step - loss: 0.0041 - r2_score: 0.7879 - val_loss: 0.0049 - val_r2_score: 0.7167\n",
      "Epoch 84/100\n",
      "\u001b[1m13/13\u001b[0m \u001b[32m━━━━━━━━━━━━━━━━━━━━\u001b[0m\u001b[37m\u001b[0m \u001b[1m0s\u001b[0m 4ms/step - loss: 0.0049 - r2_score: 0.7745 - val_loss: 0.0049 - val_r2_score: 0.7172\n",
      "Epoch 85/100\n",
      "\u001b[1m13/13\u001b[0m \u001b[32m━━━━━━━━━━━━━━━━━━━━\u001b[0m\u001b[37m\u001b[0m \u001b[1m0s\u001b[0m 5ms/step - loss: 0.0053 - r2_score: 0.7378 - val_loss: 0.0049 - val_r2_score: 0.7175\n",
      "Epoch 86/100\n",
      "\u001b[1m13/13\u001b[0m \u001b[32m━━━━━━━━━━━━━━━━━━━━\u001b[0m\u001b[37m\u001b[0m \u001b[1m0s\u001b[0m 4ms/step - loss: 0.0048 - r2_score: 0.7801 - val_loss: 0.0049 - val_r2_score: 0.7174\n",
      "Epoch 87/100\n",
      "\u001b[1m13/13\u001b[0m \u001b[32m━━━━━━━━━━━━━━━━━━━━\u001b[0m\u001b[37m\u001b[0m \u001b[1m0s\u001b[0m 4ms/step - loss: 0.0042 - r2_score: 0.7808 - val_loss: 0.0051 - val_r2_score: 0.7089\n",
      "Epoch 88/100\n",
      "\u001b[1m13/13\u001b[0m \u001b[32m━━━━━━━━━━━━━━━━━━━━\u001b[0m\u001b[37m\u001b[0m \u001b[1m0s\u001b[0m 4ms/step - loss: 0.0044 - r2_score: 0.7612 - val_loss: 0.0049 - val_r2_score: 0.7202\n",
      "Epoch 89/100\n",
      "\u001b[1m13/13\u001b[0m \u001b[32m━━━━━━━━━━━━━━━━━━━━\u001b[0m\u001b[37m\u001b[0m \u001b[1m0s\u001b[0m 4ms/step - loss: 0.0040 - r2_score: 0.7974 - val_loss: 0.0049 - val_r2_score: 0.7196\n",
      "Epoch 90/100\n",
      "\u001b[1m13/13\u001b[0m \u001b[32m━━━━━━━━━━━━━━━━━━━━\u001b[0m\u001b[37m\u001b[0m \u001b[1m0s\u001b[0m 4ms/step - loss: 0.0048 - r2_score: 0.7828 - val_loss: 0.0049 - val_r2_score: 0.7200\n",
      "Epoch 91/100\n",
      "\u001b[1m13/13\u001b[0m \u001b[32m━━━━━━━━━━━━━━━━━━━━\u001b[0m\u001b[37m\u001b[0m \u001b[1m0s\u001b[0m 4ms/step - loss: 0.0049 - r2_score: 0.7640 - val_loss: 0.0050 - val_r2_score: 0.7150\n",
      "Epoch 92/100\n",
      "\u001b[1m13/13\u001b[0m \u001b[32m━━━━━━━━━━━━━━━━━━━━\u001b[0m\u001b[37m\u001b[0m \u001b[1m0s\u001b[0m 4ms/step - loss: 0.0045 - r2_score: 0.7808 - val_loss: 0.0049 - val_r2_score: 0.7208\n",
      "Epoch 93/100\n",
      "\u001b[1m13/13\u001b[0m \u001b[32m━━━━━━━━━━━━━━━━━━━━\u001b[0m\u001b[37m\u001b[0m \u001b[1m0s\u001b[0m 4ms/step - loss: 0.0042 - r2_score: 0.7973 - val_loss: 0.0050 - val_r2_score: 0.7162\n",
      "Epoch 94/100\n",
      "\u001b[1m13/13\u001b[0m \u001b[32m━━━━━━━━━━━━━━━━━━━━\u001b[0m\u001b[37m\u001b[0m \u001b[1m0s\u001b[0m 4ms/step - loss: 0.0041 - r2_score: 0.7947 - val_loss: 0.0049 - val_r2_score: 0.7188\n",
      "Epoch 95/100\n",
      "\u001b[1m13/13\u001b[0m \u001b[32m━━━━━━━━━━━━━━━━━━━━\u001b[0m\u001b[37m\u001b[0m \u001b[1m0s\u001b[0m 4ms/step - loss: 0.0046 - r2_score: 0.7839 - val_loss: 0.0049 - val_r2_score: 0.7219\n",
      "Epoch 96/100\n",
      "\u001b[1m13/13\u001b[0m \u001b[32m━━━━━━━━━━━━━━━━━━━━\u001b[0m\u001b[37m\u001b[0m \u001b[1m0s\u001b[0m 4ms/step - loss: 0.0039 - r2_score: 0.7827 - val_loss: 0.0049 - val_r2_score: 0.7194\n",
      "Epoch 97/100\n",
      "\u001b[1m13/13\u001b[0m \u001b[32m━━━━━━━━━━━━━━━━━━━━\u001b[0m\u001b[37m\u001b[0m \u001b[1m0s\u001b[0m 4ms/step - loss: 0.0049 - r2_score: 0.7760 - val_loss: 0.0049 - val_r2_score: 0.7217\n",
      "Epoch 98/100\n",
      "\u001b[1m13/13\u001b[0m \u001b[32m━━━━━━━━━━━━━━━━━━━━\u001b[0m\u001b[37m\u001b[0m \u001b[1m0s\u001b[0m 4ms/step - loss: 0.0041 - r2_score: 0.7807 - val_loss: 0.0050 - val_r2_score: 0.7115\n",
      "Epoch 99/100\n",
      "\u001b[1m13/13\u001b[0m \u001b[32m━━━━━━━━━━━━━━━━━━━━\u001b[0m\u001b[37m\u001b[0m \u001b[1m0s\u001b[0m 4ms/step - loss: 0.0049 - r2_score: 0.7581 - val_loss: 0.0048 - val_r2_score: 0.7224\n",
      "Epoch 100/100\n",
      "\u001b[1m13/13\u001b[0m \u001b[32m━━━━━━━━━━━━━━━━━━━━\u001b[0m\u001b[37m\u001b[0m \u001b[1m0s\u001b[0m 4ms/step - loss: 0.0043 - r2_score: 0.7946 - val_loss: 0.0049 - val_r2_score: 0.7220\n"
     ]
    }
   ],
   "source": [
    "values= model.fit(X_train, y_train, epochs= 100, validation_data= (X_test, y_test))"
   ]
  },
  {
   "cell_type": "markdown",
   "id": "0019e978",
   "metadata": {
    "papermill": {
     "duration": 0.024975,
     "end_time": "2025-01-01T11:45:43.355866",
     "exception": false,
     "start_time": "2025-01-01T11:45:43.330891",
     "status": "completed"
    },
    "tags": []
   },
   "source": [
    "## Epoch refers to one complete pass through the entire training dataset, where the model performs both forward and backward propagation for every data point once. So, if we have \"100 epochs,\" it means the model will go through the entire dataset 100 times, performing 100 forward passes and 100 backward passes in total.\n",
    "\n",
    "## 1 epoch includes 1 forward and 1 backward pass of all the training data.\n",
    "\n",
    "## Validation_data At the end of each epoch the model will predict the values for test set to evaluate the performance on unseen data."
   ]
  },
  {
   "cell_type": "markdown",
   "id": "6f58f7a0",
   "metadata": {
    "papermill": {
     "duration": 0.024703,
     "end_time": "2025-01-01T11:45:43.405651",
     "exception": false,
     "start_time": "2025-01-01T11:45:43.380948",
     "status": "completed"
    },
    "tags": []
   },
   "source": [
    "# loss: 0.0038 - r2_score: 0.7868 - val_loss: 0.0042 - val_r2_score: 0.7586\n",
    "\n",
    "## loss: value of the loss function which if close to zero means the model is predicting values closer to the ground truth.\n",
    "\n",
    "## r2_score: (Coefficient of Determination) measures how well the model explains the variance in the target variable. 78% of the variance in the values of Chance of admit  column is explained by the indenpendent columns. The remaining 22% of the variation in the values of Chance of Admit is due to factors not included in the model (e.g., other variables like interview performance, extracurriculars or random factors/noise). It's good if R2 score is closer to 1.\n",
    "\n",
    "## val_loss: loss for the given test data.\n",
    "\n",
    "## val_r2_score: r_2 score calculated for the given test data."
   ]
  },
  {
   "cell_type": "markdown",
   "id": "a2e22a1c",
   "metadata": {
    "papermill": {
     "duration": 0.024945,
     "end_time": "2025-01-01T11:45:43.455742",
     "exception": false,
     "start_time": "2025-01-01T11:45:43.430797",
     "status": "completed"
    },
    "tags": []
   },
   "source": [
    "# Visualization of the loss function values on train and test data."
   ]
  },
  {
   "cell_type": "code",
   "execution_count": 25,
   "id": "a52b0ba9",
   "metadata": {
    "execution": {
     "iopub.execute_input": "2025-01-01T11:45:43.507245Z",
     "iopub.status.busy": "2025-01-01T11:45:43.506845Z",
     "iopub.status.idle": "2025-01-01T11:45:43.511252Z",
     "shell.execute_reply": "2025-01-01T11:45:43.510140Z"
    },
    "papermill": {
     "duration": 0.032413,
     "end_time": "2025-01-01T11:45:43.512960",
     "exception": false,
     "start_time": "2025-01-01T11:45:43.480547",
     "status": "completed"
    },
    "tags": []
   },
   "outputs": [],
   "source": [
    "import matplotlib.pyplot as plt"
   ]
  },
  {
   "cell_type": "code",
   "execution_count": 26,
   "id": "b8cfafbd",
   "metadata": {
    "execution": {
     "iopub.execute_input": "2025-01-01T11:45:43.565389Z",
     "iopub.status.busy": "2025-01-01T11:45:43.564989Z",
     "iopub.status.idle": "2025-01-01T11:45:43.891527Z",
     "shell.execute_reply": "2025-01-01T11:45:43.890321Z"
    },
    "papermill": {
     "duration": 0.354694,
     "end_time": "2025-01-01T11:45:43.893317",
     "exception": false,
     "start_time": "2025-01-01T11:45:43.538623",
     "status": "completed"
    },
    "tags": []
   },
   "outputs": [
    {
     "data": {
      "image/png": "[encoded data removed]",
      "text/plain": [
       "<Figure size 640x480 with 1 Axes>"
      ]
     },
     "metadata": {},
     "output_type": "display_data"
    }
   ],
   "source": [
    "plt.plot(values.history['loss'], label= 'Training data')\n",
    "plt.plot(values.history['val_loss'], label= 'Test data')\n",
    "plt.legend()\n",
    "plt.xlabel('Epochs')\n",
    "plt.ylabel('Loss function values')\n",
    "plt.title('Training Loss vs Test Loss')\n",
    "plt.show()"
   ]
  },
  {
   "cell_type": "markdown",
   "id": "367b9ee6",
   "metadata": {
    "papermill": {
     "duration": 0.025646,
     "end_time": "2025-01-01T11:45:43.945310",
     "exception": false,
     "start_time": "2025-01-01T11:45:43.919664",
     "status": "completed"
    },
    "tags": []
   },
   "source": [
    "## The convergence of training and validation loss at the end of training indicates that the model is well-fitted, with minimal overfitting or underfitting, and demonstrates good generalization to unseen data"
   ]
  }
 ],
 "metadata": {
  "kaggle": {
   "accelerator": "none",
   "dataSources": [
    {
     "datasetId": 14872,
     "sourceId": 228180,
     "sourceType": "datasetVersion"
    }
   ],
   "isGpuEnabled": false,
   "isInternetEnabled": false,
   "language": "python",
   "sourceType": "notebook"
  },
  "kernelspec": {
   "display_name": "Python 3",
   "language": "python",
   "name": "python3"
  },
  "language_info": {
   "codemirror_mode": {
    "name": "ipython",
    "version": 3
   },
   "file_extension": ".py",
   "mimetype": "text/x-python",
   "name": "python",
   "nbconvert_exporter": "python",
   "pygments_lexer": "ipython3",
   "version": "3.10.12"
  },
  "papermill": {
   "default_parameters": {},
   "duration": 26.407783,
   "end_time": "2025-01-01T11:45:45.595592",
   "environment_variables": {},
   "exception": null,
   "input_path": "__notebook__.ipynb",
   "output_path": "__notebook__.ipynb",
   "parameters": {},
   "start_time": "2025-01-01T11:45:19.187809",
   "version": "2.6.0"
  }
 },
 "nbformat": 4,
 "nbformat_minor": 5
}
